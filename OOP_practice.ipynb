{
  "nbformat": 4,
  "nbformat_minor": 0,
  "metadata": {
    "colab": {
      "provenance": [],
      "authorship_tag": "ABX9TyN9e/5CTxpWD2TxenugsrKl",
      "include_colab_link": true
    },
    "kernelspec": {
      "name": "python3",
      "display_name": "Python 3"
    },
    "language_info": {
      "name": "python"
    }
  },
  "cells": [
    {
      "cell_type": "markdown",
      "metadata": {
        "id": "view-in-github",
        "colab_type": "text"
      },
      "source": [
        "<a href=\"https://colab.research.google.com/github/84657890737665/Practice-OOP/blob/main/OOP_practice.ipynb\" target=\"_parent\"><img src=\"https://colab.research.google.com/assets/colab-badge.svg\" alt=\"Open In Colab\"/></a>"
      ]
    },
    {
      "cell_type": "code",
      "execution_count": null,
      "metadata": {
        "id": "G3v9L1nM4hQU",
        "colab": {
          "base_uri": "https://localhost:8080/"
        },
        "outputId": "e9a1fe76-5c4f-4cb9-bff7-533b689fe58c"
      },
      "outputs": [
        {
          "output_type": "stream",
          "name": "stdout",
          "text": [
            " Misbah 14 \n"
          ]
        }
      ],
      "source": [
        "# practice OOP\n",
        "\n",
        "class Person:\n",
        "    def __init__(self, name, age):\n",
        "             self.name = name\n",
        "             self.age = age\n",
        "\n",
        "    def __str__(self):\n",
        "         return f\" {self.name} {self.age} \"\n",
        "\n",
        "person = Person(\"Misbah\" , \"14\")\n",
        "print(person)"
      ]
    },
    {
      "cell_type": "code",
      "source": [
        "\n",
        "from abc import ABC , abstractmethod\n",
        "\n",
        "class Auth(ABC):\n",
        "     @abstractmethod\n",
        "     def login(self):\n",
        "        pass\n",
        "\n",
        "class LoginPassword:\n",
        "    def login(self, email, password):\n",
        "       print(\"Login Successfully!\")\n",
        "\n",
        "\n",
        "class GoogleAuth(Auth):\n",
        "     def login(self):\n",
        "       print(\"Google will send an Authentication Link\")\n",
        "\n",
        "class FacebookAuth(Auth):\n",
        "     def welcome():\n",
        "        print(\"Welcome!\")\n",
        "\n",
        "\n",
        "user1 = LoginPassword()\n",
        "user1.login(email=\"tani@gmail.com\" , password=\"1234\")"
      ],
      "metadata": {
        "colab": {
          "base_uri": "https://localhost:8080/"
        },
        "id": "uEQV63ukV8IC",
        "outputId": "416de880-2f4d-425e-d93f-d16a2c58b7ee"
      },
      "execution_count": null,
      "outputs": [
        {
          "output_type": "stream",
          "name": "stdout",
          "text": [
            "Login Successfully!\n"
          ]
        }
      ]
    },
    {
      "cell_type": "code",
      "source": [
        "# implementation using oop in payment method\n",
        "\n",
        "from abc import ABC , abstractmethod\n",
        "\n",
        "class Auth(ABC):\n",
        "     @abstractmethod\n",
        "     def payment(self):\n",
        "        pass\n",
        "\n",
        "class CardPayment:\n",
        "    def payment(self):\n",
        "        print(\"Payment Succeed\")\n",
        "\n",
        "class PaymentAuth(Auth):\n",
        "     def payment(self):\n",
        "        Print(\"Succeed\")\n",
        "user1 = CardPayment\n",
        "user1.payment(\"card number\")"
      ],
      "metadata": {
        "colab": {
          "base_uri": "https://localhost:8080/"
        },
        "id": "9yWxvIn8cNAd",
        "outputId": "7f193024-2330-4e4b-bb9e-610a89b45c9d"
      },
      "execution_count": null,
      "outputs": [
        {
          "output_type": "stream",
          "name": "stdout",
          "text": [
            "Payment Succeed\n"
          ]
        }
      ]
    }
  ]
}