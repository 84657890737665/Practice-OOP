{
  "nbformat": 4,
  "nbformat_minor": 0,
  "metadata": {
    "colab": {
      "provenance": [],
      "authorship_tag": "ABX9TyPRV1+EB4YqKwB3vmkz7MgF",
      "include_colab_link": true
    },
    "kernelspec": {
      "name": "python3",
      "display_name": "Python 3"
    },
    "language_info": {
      "name": "python"
    }
  },
  "cells": [
    {
      "cell_type": "markdown",
      "metadata": {
        "id": "view-in-github",
        "colab_type": "text"
      },
      "source": [
        "<a href=\"https://colab.research.google.com/github/84657890737665/Practice-OOP/blob/main/greeting_agent.ipynb\" target=\"_parent\"><img src=\"https://colab.research.google.com/assets/colab-badge.svg\" alt=\"Open In Colab\"/></a>"
      ]
    },
    {
      "cell_type": "code",
      "execution_count": null,
      "metadata": {
        "id": "MFafWgtyy157",
        "colab": {
          "base_uri": "https://localhost:8080/"
        },
        "outputId": "021d3d60-d0ce-4938-bd76-1706303d0e47"
      },
      "outputs": [
        {
          "output_type": "stream",
          "name": "stdout",
          "text": [
            "Hey! What's your name? Tanzeela \n",
            "Nice to meet you, Tanzeela !  🧑‍💻  🎉\n",
            "Hey! What's your name? Tanzeela \n",
            "Welcome BACK, Tanzeela ! 🥳  I missed you! ❤️\n",
            "Hey! What's your name? Tanzeela \n",
            "Welcome BACK, Tanzeela ! 🫶  I missed you! ❤️\n",
            "Hey! What's your name? Misbah \n",
            "Nice to meet you, Misbah !  😅  🎉\n",
            "Hey! What's your name? Misbah \n",
            "Welcome BACK, Misbah !  😅  I missed you! ❤️\n",
            "Hey! What's your name? Misbah \n",
            "Welcome BACK, Misbah ! 🥺  I missed you! ❤️\n",
            "Hey! What's your name? Dua\n",
            "Nice to meet you, Dua!  😅  🎉\n",
            "Hey! What's your name? Dua\n",
            "Welcome BACK, Dua! 🫶  I missed you! ❤️\n",
            "Hey! What's your name? Dua\n",
            "Welcome BACK, Dua! 🥳  I missed you! ❤️\n"
          ]
        }
      ],
      "source": [
        "\n",
        "\n",
        "import random\n",
        "\n",
        "class GreetingAgent:\n",
        "    def __init__(self):\n",
        "        self.memory = {}  # A tiny brain to remember names!\n",
        "        self.moods = [ \"🥺\" , \"😄\" , \"🥳\" , \" 🧑‍💻\" , \"🫶\" , \" 😅\" ]\n",
        "\n",
        "    def greet(self):\n",
        "        name = input(\"Hey! What's your name? \")\n",
        "        mood = random.choice(self.moods)\n",
        "        if name in self.memory:\n",
        "            print(f\"Welcome BACK, {name}! {mood}  I missed you! ❤️\")\n",
        "        else:\n",
        "            print(f\"Nice to meet you, {name}! {mood}  🎉\")\n",
        "            self.memory[name] = True  # Stores your name\n",
        "\n",
        "\n",
        "# Let's bring the agent to life!\n",
        "if __name__ == \"__main__\":\n",
        "    agent = GreetingAgent()\n",
        "    while True:\n",
        "        agent.greet()"
      ]
    }
  ]
}